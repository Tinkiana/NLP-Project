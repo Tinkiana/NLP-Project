{
 "cells": [
  {
   "cell_type": "markdown",
   "id": "5733f9d9",
   "metadata": {},
   "source": [
    "DATA COLLECTION"
   ]
  },
  {
   "cell_type": "code",
   "execution_count": 1,
   "id": "920d3e45",
   "metadata": {},
   "outputs": [],
   "source": [
    "import requests\n",
    "import pandas as pd\n",
    "from bs4 import BeautifulSoup\n",
    "from datetime import datetime\n",
    "import logging"
   ]
  },
  {
   "cell_type": "code",
   "execution_count": 2,
   "id": "998ddda9",
   "metadata": {},
   "outputs": [],
   "source": [
    "headers = {\n",
    "    \"authority\": \"www.amazon.com\",\n",
    "    \"pragma\": \"no-cache\",\n",
    "    \"cache-control\": \"no-cache\",\n",
    "    \"dnt\": \"1\",\n",
    "    \"upgrade-insecure-requests\": \"1\",\n",
    "    \"user-agent\": \"Mozilla/5.0 (X11; CrOS x86_64 8172.45.0) AppleWebKit/537.36 (KHTML, like Gecko) Chrome/51.0.2704.64 Safari/537.36\",\n",
    "    \"accept\": \"text/html,application/xhtml+xml,application/xml;q=0.9,image/webp,image/apng,*/*;q=0.8,application/signed-exchange;v=b3;q=0.9\",\n",
    "    \"sec-fetch-site\": \"none\",\n",
    "    \"sec-fetch-mode\": \"navigate\",\n",
    "    \"sec-fetch-dest\": \"document\",\n",
    "    \"accept-language\": \"en-GB,en-US;q=0.9,en;q=0.8\",\n",
    "}"
   ]
  },
  {
   "cell_type": "code",
   "execution_count": 3,
   "id": "9dd5260e",
   "metadata": {},
   "outputs": [],
   "source": [
    "URLS = [\n",
    " \"https://www.amazon.com/Heat-Storm-HS-1500-PHX-WIFI-Infrared-Heater/product-reviews/B07JXRWJ8D/ref=cm_cr_dp_d_show_all_btm?ie=UTF8&reviewerType=all_reviews\",\n",
    " \"https://www.amazon.com/Heat-Storm-HS-1500-PHX-WIFI-Infrared-Heater/product-reviews/B07JXRWJ8D/ref=cm_cr_arp_d_paging_btm_next_2?ie=UTF8&reviewerType=all_reviews&pageNumber=2\",\n",
    " \"https://www.amazon.com/Heat-Storm-HS-1500-PHX-WIFI-Infrared-Heater/product-reviews/B07JXRWJ8D/ref=cm_cr_getr_d_paging_btm_next_3?ie=UTF8&reviewerType=all_reviews&pageNumber=3\"\n",
    "]"
   ]
  },
  {
   "cell_type": "code",
   "execution_count": 4,
   "id": "45b79a65",
   "metadata": {},
   "outputs": [],
   "source": [
    "def get_page_html(page_url: str) -> str:\n",
    "    resp = requests.get(page_url, headers=headers)\n",
    "    return resp.text"
   ]
  },
  {
   "cell_type": "code",
   "execution_count": 5,
   "id": "976114ab",
   "metadata": {},
   "outputs": [],
   "source": [
    "def get_reviews_from_html(page_html: str) -> BeautifulSoup:\n",
    "    soup = BeautifulSoup(page_html, \"lxml\")\n",
    "    reviews = soup.find_all(\"div\", {\"class\": \"a-section celwidget\"})\n",
    "    return reviews"
   ]
  },
  {
   "cell_type": "code",
   "execution_count": 6,
   "id": "8c9e174f",
   "metadata": {},
   "outputs": [],
   "source": [
    "def get_review_date(soup_object: BeautifulSoup):\n",
    "    date_string = soup_object.find(\"span\", {\"class\": \"review-date\"}).get_text()\n",
    "    return date_string"
   ]
  },
  {
   "cell_type": "code",
   "execution_count": 7,
   "id": "43ae2089",
   "metadata": {},
   "outputs": [],
   "source": [
    "def get_review_text(soup_object: BeautifulSoup) -> str:\n",
    "    review_text = soup_object.find(\n",
    "        \"span\", {\"class\": \"a-size-base review-text review-text-content\"}\n",
    "    ).get_text()\n",
    "    return review_text.strip()"
   ]
  },
  {
   "cell_type": "code",
   "execution_count": 8,
   "id": "30d53baa",
   "metadata": {},
   "outputs": [],
   "source": [
    "def get_review_header(soup_object: BeautifulSoup) -> str:\n",
    "    review_header = soup_object.find(\n",
    "        \"a\",\n",
    "        {\n",
    "            \"class\": \"a-size-base a-link-normal review-title a-color-base review-title-content a-text-bold\"\n",
    "        },\n",
    "    ).get_text()\n",
    "    return review_header.strip()"
   ]
  },
  {
   "cell_type": "code",
   "execution_count": 9,
   "id": "91087c7b",
   "metadata": {},
   "outputs": [],
   "source": [
    "def get_number_stars(soup_object: BeautifulSoup) -> str:\n",
    "    stars = soup_object.find(\"span\", {\"class\": \"a-icon-alt\"}).get_text()\n",
    "    return stars.strip()"
   ]
  },
  {
   "cell_type": "code",
   "execution_count": 10,
   "id": "c99d1da7",
   "metadata": {},
   "outputs": [],
   "source": [
    "def get_product_name(soup_object: BeautifulSoup) -> str:\n",
    "    product = soup_object.find(\n",
    "        \"a\", {\"class\": \"a-size-mini a-link-normal a-color-secondary\"}\n",
    "    ).get_text()\n",
    "    return product.strip()"
   ]
  },
  {
   "cell_type": "code",
   "execution_count": 11,
   "id": "b530733b",
   "metadata": {},
   "outputs": [],
   "source": [
    "def orchestrate_data_gathering(single_review: BeautifulSoup) -> dict:\n",
    "    return {\n",
    "        \"review_text\": get_review_text(single_review),\n",
    "        \"review_date\": get_review_date(single_review),\n",
    "        \"review_title\": get_review_header(single_review),\n",
    "        \"review_stars\": get_number_stars(single_review),\n",
    "        \"review_flavor\": get_product_name(single_review),\n",
    "    }"
   ]
  },
  {
   "cell_type": "code",
   "execution_count": 12,
   "id": "1f17f1a8",
   "metadata": {},
   "outputs": [
    {
     "name": "stderr",
     "output_type": "stream",
     "text": [
      "INFO:root:https://www.amazon.com/Heat-Storm-HS-1500-PHX-WIFI-Infrared-Heater/product-reviews/B07JXRWJ8D/ref=cm_cr_dp_d_show_all_btm?ie=UTF8&reviewerType=all_reviews\n",
      "INFO:root:https://www.amazon.com/Heat-Storm-HS-1500-PHX-WIFI-Infrared-Heater/product-reviews/B07JXRWJ8D/ref=cm_cr_arp_d_paging_btm_next_2?ie=UTF8&reviewerType=all_reviews&pageNumber=2\n",
      "INFO:root:https://www.amazon.com/Heat-Storm-HS-1500-PHX-WIFI-Infrared-Heater/product-reviews/B07JXRWJ8D/ref=cm_cr_getr_d_paging_btm_next_3?ie=UTF8&reviewerType=all_reviews&pageNumber=3\n",
      "INFO:root:30 Is the shape of the dataframe\n",
      "INFO:root:saving to 2023-03-24-03.csv\n",
      "INFO:root:Done yayy\n"
     ]
    }
   ],
   "source": [
    "if __name__ == '__main__':\n",
    "    logging.basicConfig(level=logging.INFO)\n",
    "    all_results = []\n",
    "\n",
    "    for u in URLS:\n",
    "        logging.info(u)\n",
    "        html = get_page_html(u)\n",
    "        reviews = get_reviews_from_html(html)\n",
    "        for rev in reviews:\n",
    "            data = orchestrate_data_gathering(rev)\n",
    "            all_results.append(data)\n",
    "\n",
    "    out = pd.DataFrame.from_records(all_results)\n",
    "    logging.info(f\"{out.shape[0]} Is the shape of the dataframe\")\n",
    "    save_name = f\"{datetime.now().strftime('%Y-%m-%d-%m')}.csv\"\n",
    "    logging.info(f\"saving to {save_name}\")\n",
    "    out.to_csv(save_name)\n",
    "    logging.info('Done yayy')"
   ]
  },
  {
   "cell_type": "markdown",
   "id": "852ef16c",
   "metadata": {},
   "source": [
    "DATA LABELLING, PREPROCESSING AND FEATURE EXTRACTION"
   ]
  },
  {
   "cell_type": "code",
   "execution_count": 24,
   "id": "1acaf64f",
   "metadata": {},
   "outputs": [],
   "source": [
    "import pandas as pd\n",
    "import nltk\n",
    "from nltk.corpus import stopwords\n",
    "from nltk.stem import WordNetLemmatizer\n",
    "from sklearn.preprocessing import LabelEncoder\n",
    "from sklearn.feature_extraction.text import CountVectorizer"
   ]
  },
  {
   "cell_type": "code",
   "execution_count": 25,
   "id": "aff45019",
   "metadata": {},
   "outputs": [],
   "source": [
    "data = pd.read_csv('2023-03-24-03.csv')"
   ]
  },
  {
   "cell_type": "code",
   "execution_count": 26,
   "id": "7984355d",
   "metadata": {},
   "outputs": [],
   "source": [
    "data['review_label'] = data['review_stars'].apply(lambda x: 1 if int(x[0]) >= 4 else 0)"
   ]
  },
  {
   "cell_type": "code",
   "execution_count": 27,
   "id": "297ccf68",
   "metadata": {},
   "outputs": [
    {
     "name": "stderr",
     "output_type": "stream",
     "text": [
      "[nltk_data] Downloading package stopwords to\n",
      "[nltk_data]     C:\\Users\\Admin\\AppData\\Roaming\\nltk_data...\n",
      "[nltk_data]   Package stopwords is already up-to-date!\n",
      "[nltk_data] Downloading package wordnet to\n",
      "[nltk_data]     C:\\Users\\Admin\\AppData\\Roaming\\nltk_data...\n",
      "[nltk_data]   Package wordnet is already up-to-date!\n"
     ]
    }
   ],
   "source": [
    "nltk.download('stopwords')\n",
    "nltk.download('wordnet')\n",
    "stop_words = set(stopwords.words('english'))\n",
    "lemmatizer = WordNetLemmatizer()"
   ]
  },
  {
   "cell_type": "code",
   "execution_count": 115,
   "id": "8534ea55",
   "metadata": {},
   "outputs": [],
   "source": [
    "def preprocess_text(text):\n",
    "    text = text.lower()\n",
    "    words = nltk.word_tokenize(text)\n",
    "    words = [w for w in words if not w in stop_words]\n",
    "    words = [lemmatizer.lemmatize(w) for w in words]\n",
    "    return ' '.join(words)"
   ]
  },
  {
   "cell_type": "code",
   "execution_count": 114,
   "id": "6d5263bd",
   "metadata": {},
   "outputs": [],
   "source": [
    "data['review_text'] = data['review_text'].apply(preprocess_text)"
   ]
  },
  {
   "cell_type": "code",
   "execution_count": 113,
   "id": "daba5273",
   "metadata": {},
   "outputs": [],
   "source": [
    "label_encoder = LabelEncoder()\n",
    "data['review_flavor'] = label_encoder.fit_transform(data['review_flavor'])"
   ]
  },
  {
   "cell_type": "code",
   "execution_count": 112,
   "id": "b4f394e8",
   "metadata": {},
   "outputs": [],
   "source": [
    "vectorizer = CountVectorizer()\n",
    "X = vectorizer.fit_transform(data['review_text'])"
   ]
  },
  {
   "cell_type": "code",
   "execution_count": 52,
   "id": "149528f8",
   "metadata": {},
   "outputs": [],
   "source": [
    "df = df.dropna()"
   ]
  },
  {
   "cell_type": "code",
   "execution_count": 109,
   "id": "3aacea46",
   "metadata": {},
   "outputs": [],
   "source": [
    "X = vectorizer.fit_transform(df['review_text'])"
   ]
  },
  {
   "cell_type": "code",
   "execution_count": 110,
   "id": "0a57bb6a",
   "metadata": {},
   "outputs": [],
   "source": [
    "y = df['review_stars']"
   ]
  },
  {
   "cell_type": "code",
   "execution_count": 111,
   "id": "c354ad81",
   "metadata": {},
   "outputs": [
    {
     "name": "stdout",
     "output_type": "stream",
     "text": [
      "(30, 1331)\n"
     ]
    }
   ],
   "source": [
    "print(X.shape)"
   ]
  },
  {
   "cell_type": "markdown",
   "id": "af1468e6",
   "metadata": {},
   "source": [
    "MODEL TRAINING"
   ]
  },
  {
   "cell_type": "code",
   "execution_count": 56,
   "id": "e005eb2e",
   "metadata": {},
   "outputs": [],
   "source": [
    "import pandas as pd\n",
    "from sklearn.feature_extraction.text import CountVectorizer\n",
    "from sklearn.model_selection import train_test_split\n",
    "from sklearn.naive_bayes import MultinomialNB\n",
    "from sklearn.metrics import accuracy_score"
   ]
  },
  {
   "cell_type": "code",
   "execution_count": 57,
   "id": "69985b02",
   "metadata": {},
   "outputs": [],
   "source": [
    "X_train, X_test, y_train, y_test = train_test_split(X, y, test_size=0.2, random_state=42)\n"
   ]
  },
  {
   "cell_type": "code",
   "execution_count": 104,
   "id": "de0eb36e",
   "metadata": {},
   "outputs": [],
   "source": [
    "model = MultinomialNB()"
   ]
  },
  {
   "cell_type": "code",
   "execution_count": 105,
   "id": "73e20193",
   "metadata": {},
   "outputs": [
    {
     "data": {
      "text/plain": [
       "MultinomialNB()"
      ]
     },
     "execution_count": 105,
     "metadata": {},
     "output_type": "execute_result"
    }
   ],
   "source": [
    "model.fit(X_train, y_train)"
   ]
  },
  {
   "cell_type": "code",
   "execution_count": 59,
   "id": "fe872cbf",
   "metadata": {},
   "outputs": [],
   "source": [
    "y_pred = model.predict(X_test)"
   ]
  },
  {
   "cell_type": "code",
   "execution_count": 107,
   "id": "696497c4",
   "metadata": {},
   "outputs": [],
   "source": [
    "accuracy = accuracy_score(y_test, y_pred)\n",
    "precision = precision_score(y_test, y_pred, pos_label='5.0 out of 5 stars')\n",
    "recall = recall_score(y_test, y_pred, pos_label='5.0 out of 5 stars')\n",
    "f1 = f1_score(y_test, y_pred, pos_label='5.0 out of 5 stars')"
   ]
  },
  {
   "cell_type": "code",
   "execution_count": 108,
   "id": "d2e6740e",
   "metadata": {},
   "outputs": [
    {
     "name": "stdout",
     "output_type": "stream",
     "text": [
      "Accuracy: 0.17\n",
      "Precision: 0.25\n",
      "Recall: 0.33\n",
      "F1 Score: 0.29\n"
     ]
    }
   ],
   "source": [
    "print(\"Accuracy: {:.2f}\".format(accuracy))\n",
    "print(\"Precision: {:.2f}\".format(precision))\n",
    "print(\"Recall: {:.2f}\".format(recall))\n",
    "print(\"F1 Score: {:.2f}\".format(f1))"
   ]
  },
  {
   "cell_type": "markdown",
   "id": "d3218165",
   "metadata": {},
   "source": [
    "MODEL EVALUATION"
   ]
  },
  {
   "cell_type": "code",
   "execution_count": 94,
   "id": "d6bfc606",
   "metadata": {},
   "outputs": [],
   "source": [
    "from sklearn.metrics import classification_report, confusion_matrix"
   ]
  },
  {
   "cell_type": "code",
   "execution_count": 103,
   "id": "cea9d5f5",
   "metadata": {},
   "outputs": [
    {
     "name": "stdout",
     "output_type": "stream",
     "text": [
      "Confusion matrix:\n",
      "[[0 3]\n",
      " [2 1]]\n"
     ]
    }
   ],
   "source": [
    "print(\"Confusion matrix:\")\n",
    "print(confusion_matrix(y_test, y_pred))"
   ]
  },
  {
   "cell_type": "code",
   "execution_count": 93,
   "id": "e7e948ca",
   "metadata": {},
   "outputs": [
    {
     "name": "stdout",
     "output_type": "stream",
     "text": [
      "\n",
      "Classification report:\n",
      "                    precision    recall  f1-score   support\n",
      "\n",
      "4.0 out of 5 stars       0.00      0.00      0.00         3\n",
      "5.0 out of 5 stars       0.25      0.33      0.29         3\n",
      "\n",
      "          accuracy                           0.17         6\n",
      "         macro avg       0.12      0.17      0.14         6\n",
      "      weighted avg       0.12      0.17      0.14         6\n",
      "\n"
     ]
    }
   ],
   "source": [
    "print(\"\\nClassification report:\")\n",
    "print(classification_report(y_test, y_pred))"
   ]
  },
  {
   "cell_type": "markdown",
   "id": "c2109112",
   "metadata": {},
   "source": [
    "DEPLOYING THE MODEL"
   ]
  },
  {
   "cell_type": "code",
   "execution_count": 122,
   "id": "64e6b136",
   "metadata": {},
   "outputs": [],
   "source": [
    "import joblib"
   ]
  },
  {
   "cell_type": "code",
   "execution_count": 123,
   "id": "69ec340e",
   "metadata": {},
   "outputs": [
    {
     "data": {
      "text/plain": [
       "['trained_model.joblib']"
      ]
     },
     "execution_count": 123,
     "metadata": {},
     "output_type": "execute_result"
    }
   ],
   "source": [
    "joblib.dump(model, 'trained_model.joblib')"
   ]
  },
  {
   "cell_type": "code",
   "execution_count": 126,
   "id": "0d78e7dd",
   "metadata": {},
   "outputs": [
    {
     "data": {
      "text/plain": [
       "['vectorizer.joblib']"
      ]
     },
     "execution_count": 126,
     "metadata": {},
     "output_type": "execute_result"
    }
   ],
   "source": [
    "joblib.dump(vectorizer, 'vectorizer.joblib')"
   ]
  },
  {
   "cell_type": "code",
   "execution_count": 127,
   "id": "b8ecf04f",
   "metadata": {},
   "outputs": [],
   "source": [
    "loaded_model = joblib.load('trained_model.joblib')"
   ]
  },
  {
   "cell_type": "code",
   "execution_count": 128,
   "id": "cc652fb3",
   "metadata": {},
   "outputs": [],
   "source": [
    "vectorizer = joblib.load('vectorizer.joblib')"
   ]
  },
  {
   "cell_type": "code",
   "execution_count": 129,
   "id": "382eb801",
   "metadata": {},
   "outputs": [
    {
     "name": "stdout",
     "output_type": "stream",
     "text": [
      "['5.0 out of 5 stars']\n"
     ]
    }
   ],
   "source": [
    "new_data = [\"These are a game changer around kids and pets\"]\n",
    "new_data_features = vectorizer.transform(new_data)\n",
    "new_data_predictions = loaded_model.predict(new_data_features)\n",
    "print(new_data_predictions)"
   ]
  },
  {
   "cell_type": "code",
   "execution_count": null,
   "id": "0c814342",
   "metadata": {},
   "outputs": [],
   "source": []
  }
 ],
 "metadata": {
  "kernelspec": {
   "display_name": "Python 3 (ipykernel)",
   "language": "python",
   "name": "python3"
  },
  "language_info": {
   "codemirror_mode": {
    "name": "ipython",
    "version": 3
   },
   "file_extension": ".py",
   "mimetype": "text/x-python",
   "name": "python",
   "nbconvert_exporter": "python",
   "pygments_lexer": "ipython3",
   "version": "3.9.13"
  }
 },
 "nbformat": 4,
 "nbformat_minor": 5
}
