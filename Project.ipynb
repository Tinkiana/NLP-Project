{
 "cells": [
  {
   "cell_type": "markdown",
   "id": "d3f4db64",
   "metadata": {},
   "source": [
    "    DATA COLLECTION"
   ]
  },
  {
   "cell_type": "code",
   "execution_count": 1,
   "id": "e8afb1c2",
   "metadata": {},
   "outputs": [],
   "source": [
    "import pandas as pd\n",
    "import requests\n",
    "from bs4 import BeautifulSoup"
   ]
  },
  {
   "cell_type": "code",
   "execution_count": 2,
   "id": "1b9a8bf9",
   "metadata": {},
   "outputs": [],
   "source": [
    "url = 'https://www.kaggle.com/datasets/datafiniti/consumer-reviews-of-amazon-products'"
   ]
  },
  {
   "cell_type": "code",
   "execution_count": 24,
   "id": "3b0882ff",
   "metadata": {},
   "outputs": [],
   "source": [
    "headers = {\"User-Agent\": \"Mozilla/5.0 (Windows NT 10.0; Win64; x64) Chrome/58.0.3029.110\"}"
   ]
  },
  {
   "cell_type": "code",
   "execution_count": 4,
   "id": "40a72f4f",
   "metadata": {},
   "outputs": [],
   "source": [
    "response = requests.get(url, headers=headers)\n",
    "content = response.content"
   ]
  },
  {
   "cell_type": "code",
   "execution_count": 5,
   "id": "549e678c",
   "metadata": {},
   "outputs": [],
   "source": [
    "soup = BeautifulSoup(content, 'html.parser')"
   ]
  },
  {
   "cell_type": "code",
   "execution_count": 6,
   "id": "c4631802",
   "metadata": {},
   "outputs": [],
   "source": [
    "reviews = soup.find_all('div', {'data-hook': 'review'})"
   ]
  },
  {
   "cell_type": "code",
   "execution_count": 7,
   "id": "3524fd93",
   "metadata": {},
   "outputs": [],
   "source": [
    "reviews_list = []\n",
    "for review in reviews:\n",
    "    review_text = review.find('span', {'data-hook': 'review-body'}).text.strip()\n",
    "    rating = review.find('i', {'data-hook': 'review-star-rating'}).text.strip().replace('out of 5 stars', '')\n",
    "    date = review.find('span', {'data-hook': 'review-date'}).text.strip()\n",
    "    review_dict = {'review_text': review_text, 'rating': rating, 'date': date}\n",
    "    reviews_list.append(review_dict)"
   ]
  },
  {
   "cell_type": "code",
   "execution_count": 23,
   "id": "a006922d",
   "metadata": {},
   "outputs": [],
   "source": [
    "reviews_df = pd.DataFrame(reviews_list)"
   ]
  },
  {
   "cell_type": "code",
   "execution_count": 9,
   "id": "b22f8e70",
   "metadata": {},
   "outputs": [],
   "source": [
    "reviews_df.to_csv('consumer_reviews.csv', index=False)"
   ]
  },
  {
   "cell_type": "markdown",
   "id": "1ca9d0a0",
   "metadata": {},
   "source": [
    "    DATA LABELLING"
   ]
  },
  {
   "cell_type": "code",
   "execution_count": 2,
   "id": "23b66714",
   "metadata": {},
   "outputs": [],
   "source": [
    "import pandas as pd"
   ]
  },
  {
   "cell_type": "code",
   "execution_count": 6,
   "id": "11317778",
   "metadata": {},
   "outputs": [],
   "source": [
    "reviews_df = pd.read_csv('consumer_reviews.csv', low_memory=False)"
   ]
  },
  {
   "cell_type": "code",
   "execution_count": 34,
   "id": "3393e7ba",
   "metadata": {},
   "outputs": [],
   "source": [
    "def label_review(rating):\n",
    "    if rating >= 4:\n",
    "        return 'positive'\n",
    "    elif rating == 3:\n",
    "        return 'neutral'\n",
    "    else:\n",
    "        return 'negative'"
   ]
  },
  {
   "cell_type": "code",
   "execution_count": 49,
   "id": "d9d4810a",
   "metadata": {},
   "outputs": [],
   "source": [
    "reviews_df['sentiment'] = reviews_df['reviews_rating'].apply(lambda x: label_review(x))\n"
   ]
  },
  {
   "cell_type": "code",
   "execution_count": 45,
   "id": "566c2774",
   "metadata": {},
   "outputs": [
    {
     "name": "stdout",
     "output_type": "stream",
     "text": [
      "                     id                                               name  \\\n",
      "0  AVqkIhwDv8e3D1O-lebb  All-New Fire HD 8 Tablet, 8 HD Display, Wi-Fi,...   \n",
      "1  AVqkIhwDv8e3D1O-lebb  All-New Fire HD 8 Tablet, 8 HD Display, Wi-Fi,...   \n",
      "2  AVqkIhwDv8e3D1O-lebb  All-New Fire HD 8 Tablet, 8 HD Display, Wi-Fi,...   \n",
      "3  AVqkIhwDv8e3D1O-lebb  All-New Fire HD 8 Tablet, 8 HD Display, Wi-Fi,...   \n",
      "4  AVqkIhwDv8e3D1O-lebb  All-New Fire HD 8 Tablet, 8 HD Display, Wi-Fi,...   \n",
      "\n",
      "        asins   brand                                         categories  \\\n",
      "0  B01AHB9CN2  Amazon  Electronics,iPad & Tablets,All Tablets,Fire Ta...   \n",
      "1  B01AHB9CN2  Amazon  Electronics,iPad & Tablets,All Tablets,Fire Ta...   \n",
      "2  B01AHB9CN2  Amazon  Electronics,iPad & Tablets,All Tablets,Fire Ta...   \n",
      "3  B01AHB9CN2  Amazon  Electronics,iPad & Tablets,All Tablets,Fire Ta...   \n",
      "4  B01AHB9CN2  Amazon  Electronics,iPad & Tablets,All Tablets,Fire Ta...   \n",
      "\n",
      "                                                keys manufacturer  \\\n",
      "0  841667104676,amazon/53004484,amazon/b01ahb9cn2...       Amazon   \n",
      "1  841667104676,amazon/53004484,amazon/b01ahb9cn2...       Amazon   \n",
      "2  841667104676,amazon/53004484,amazon/b01ahb9cn2...       Amazon   \n",
      "3  841667104676,amazon/53004484,amazon/b01ahb9cn2...       Amazon   \n",
      "4  841667104676,amazon/53004484,amazon/b01ahb9cn2...       Amazon   \n",
      "\n",
      "               reviews.date     reviews.dateAdded  \\\n",
      "0  2017-01-13T00:00:00.000Z  2017-07-03T23:33:15Z   \n",
      "1  2017-01-13T00:00:00.000Z  2017-07-03T23:33:15Z   \n",
      "2  2017-01-13T00:00:00.000Z  2017-07-03T23:33:15Z   \n",
      "3  2017-01-13T00:00:00.000Z  2017-07-03T23:33:15Z   \n",
      "4  2017-01-12T00:00:00.000Z  2017-07-03T23:33:15Z   \n",
      "\n",
      "                                    reviews.dateSeen  ... reviews.doRecommend  \\\n",
      "0  2017-06-07T09:04:00.000Z,2017-04-30T00:45:00.000Z  ...                True   \n",
      "1  2017-06-07T09:04:00.000Z,2017-04-30T00:45:00.000Z  ...                True   \n",
      "2  2017-06-07T09:04:00.000Z,2017-04-30T00:45:00.000Z  ...                True   \n",
      "3  2017-06-07T09:04:00.000Z,2017-04-30T00:45:00.000Z  ...                True   \n",
      "4  2017-06-07T09:04:00.000Z,2017-04-30T00:45:00.000Z  ...                True   \n",
      "\n",
      "  reviews.id  reviews.numHelpful  reviews_rating  \\\n",
      "0        NaN                 0.0             5.0   \n",
      "1        NaN                 0.0             5.0   \n",
      "2        NaN                 0.0             5.0   \n",
      "3        NaN                 0.0             4.0   \n",
      "4        NaN                 0.0             5.0   \n",
      "\n",
      "                                  reviews.sourceURLs  \\\n",
      "0  http://reviews.bestbuy.com/3545/5620406/review...   \n",
      "1  http://reviews.bestbuy.com/3545/5620406/review...   \n",
      "2  http://reviews.bestbuy.com/3545/5620406/review...   \n",
      "3  http://reviews.bestbuy.com/3545/5620406/review...   \n",
      "4  http://reviews.bestbuy.com/3545/5620406/review...   \n",
      "\n",
      "                                        reviews.text  \\\n",
      "0  This product so far has not disappointed. My c...   \n",
      "1  great for beginner or experienced person. Boug...   \n",
      "2  Inexpensive tablet for him to use and learn on...   \n",
      "3  I've had my Fire HD 8 two weeks now and I love...   \n",
      "4  I bought this for my grand daughter when she c...   \n",
      "\n",
      "                             reviews.title reviews.userCity  \\\n",
      "0                                   Kindle              NaN   \n",
      "1                                very fast              NaN   \n",
      "2  Beginner tablet for our 9 year old son.              NaN   \n",
      "3                                  Good!!!              NaN   \n",
      "4                Fantastic Tablet for kids              NaN   \n",
      "\n",
      "   reviews.userProvince  reviews.username  \n",
      "0                   NaN           Adapter  \n",
      "1                   NaN            truman  \n",
      "2                   NaN             DaveZ  \n",
      "3                   NaN            Shacks  \n",
      "4                   NaN         explore42  \n",
      "\n",
      "[5 rows x 21 columns]\n"
     ]
    }
   ],
   "source": [
    "print(reviews_df.head())"
   ]
  },
  {
   "cell_type": "code",
   "execution_count": 42,
   "id": "73396fab",
   "metadata": {},
   "outputs": [],
   "source": [
    "reviews_df.to_csv('consumer_reviews_labeled.csv', index=False)"
   ]
  },
  {
   "cell_type": "markdown",
   "id": "e7c89bb5",
   "metadata": {},
   "source": [
    "PREPROCESSING"
   ]
  },
  {
   "cell_type": "code",
   "execution_count": 17,
   "id": "259c178f",
   "metadata": {},
   "outputs": [
    {
     "name": "stderr",
     "output_type": "stream",
     "text": [
      "[nltk_data] Downloading package stopwords to\n",
      "[nltk_data]     C:\\Users\\Admin\\AppData\\Roaming\\nltk_data...\n",
      "[nltk_data]   Package stopwords is already up-to-date!\n"
     ]
    },
    {
     "data": {
      "text/plain": [
       "True"
      ]
     },
     "execution_count": 17,
     "metadata": {},
     "output_type": "execute_result"
    }
   ],
   "source": [
    "import pandas as pd\n",
    "import re\n",
    "import string\n",
    "import nltk\n",
    "from nltk.corpus import stopwords\n",
    "nltk.download('stopwords')"
   ]
  },
  {
   "cell_type": "code",
   "execution_count": 8,
   "id": "64490de8",
   "metadata": {},
   "outputs": [],
   "source": [
    "reviews_df = pd.read_csv('consumer_reviews_labeled.csv', low_memory=False)"
   ]
  },
  {
   "cell_type": "code",
   "execution_count": 11,
   "id": "cb684327",
   "metadata": {},
   "outputs": [],
   "source": [
    "import string\n",
    "import re\n",
    "\n",
    "def clean_text(text):\n",
    "\n",
    "    if not isinstance(text, str):\n",
    "        text = ''\n",
    "\n",
    "    text = re.sub('[%s]' % re.escape(string.punctuation), '', text)\n",
    "\n",
    "    text = text.lower()\n",
    "\n",
    "    return text\n"
   ]
  },
  {
   "cell_type": "code",
   "execution_count": 12,
   "id": "07711eb5",
   "metadata": {},
   "outputs": [],
   "source": [
    "reviews_df['clean_review'] = reviews_df['reviews_rating'].apply(lambda x: clean_text(x))"
   ]
  },
  {
   "cell_type": "code",
   "execution_count": 44,
   "id": "3b7aec89",
   "metadata": {},
   "outputs": [],
   "source": [
    "reviews_df.to_csv('consumer_reviews_preprocessed.csv', index=False)"
   ]
  },
  {
   "cell_type": "code",
   "execution_count": null,
   "id": "bef988b2",
   "metadata": {},
   "outputs": [],
   "source": []
  }
 ],
 "metadata": {
  "kernelspec": {
   "display_name": "Python 3 (ipykernel)",
   "language": "python",
   "name": "python3"
  },
  "language_info": {
   "codemirror_mode": {
    "name": "ipython",
    "version": 3
   },
   "file_extension": ".py",
   "mimetype": "text/x-python",
   "name": "python",
   "nbconvert_exporter": "python",
   "pygments_lexer": "ipython3",
   "version": "3.9.13"
  }
 },
 "nbformat": 4,
 "nbformat_minor": 5
}
